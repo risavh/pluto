{
  "nbformat": 4,
  "nbformat_minor": 0,
  "metadata": {
    "colab": {
      "name": "DecisionTrees.ipynb",
      "provenance": [],
      "authorship_tag": "ABX9TyOW1p/YYrMuSdPxW/jh3BIF",
      "include_colab_link": true
    },
    "kernelspec": {
      "name": "python3",
      "display_name": "Python 3"
    },
    "language_info": {
      "name": "python"
    }
  },
  "cells": [
    {
      "cell_type": "markdown",
      "metadata": {
        "id": "view-in-github",
        "colab_type": "text"
      },
      "source": [
        "<a href=\"https://colab.research.google.com/github/risavh/pluto/blob/main/DecisionTrees.ipynb\" target=\"_parent\"><img src=\"https://colab.research.google.com/assets/colab-badge.svg\" alt=\"Open In Colab\"/></a>"
      ]
    },
    {
      "cell_type": "code",
      "execution_count": 2,
      "metadata": {
        "id": "Ir4tZR3D5BEt"
      },
      "outputs": [],
      "source": [
        "from sklearn.datasets import load_iris\n",
        "from sklearn.tree import DecisionTreeClassifier"
      ]
    },
    {
      "cell_type": "code",
      "source": [
        "iris=load_iris()\n",
        "type(iris)"
      ],
      "metadata": {
        "colab": {
          "base_uri": "https://localhost:8080/"
        },
        "id": "TfomXHZS5G7z",
        "outputId": "c3aae9d5-4668-439f-c8e1-94e669482ef4"
      },
      "execution_count": 4,
      "outputs": [
        {
          "output_type": "execute_result",
          "data": {
            "text/plain": [
              "sklearn.utils.Bunch"
            ]
          },
          "metadata": {},
          "execution_count": 4
        }
      ]
    },
    {
      "cell_type": "code",
      "source": [
        "X= iris.data[:,2:]\n",
        "y=iris.target"
      ],
      "metadata": {
        "id": "td_xDrp35kYs"
      },
      "execution_count": 8,
      "outputs": []
    },
    {
      "cell_type": "code",
      "source": [
        "tree_clf = DecisionTreeClassifier(max_depth=2)\n",
        "tree_clf.fit(X,y)"
      ],
      "metadata": {
        "colab": {
          "base_uri": "https://localhost:8080/"
        },
        "id": "bUA21jvj5nsu",
        "outputId": "dfa076b5-58f3-4c0d-c852-e1d0a6ea658b"
      },
      "execution_count": 9,
      "outputs": [
        {
          "output_type": "execute_result",
          "data": {
            "text/plain": [
              "DecisionTreeClassifier(max_depth=2)"
            ]
          },
          "metadata": {},
          "execution_count": 9
        }
      ]
    },
    {
      "cell_type": "code",
      "source": [
        "from sklearn.tree import export_graphviz"
      ],
      "metadata": {
        "id": "ljzT4CIN5zeL"
      },
      "execution_count": 11,
      "outputs": []
    },
    {
      "cell_type": "code",
      "source": [
        "export_graphviz(tree_clf,\n",
        "                feature_names=iris.feature_names[2:],\n",
        "                class_names=iris.target_names,\n",
        "                rounded=True,\n",
        "                filled=True)"
      ],
      "metadata": {
        "colab": {
          "base_uri": "https://localhost:8080/",
          "height": 87
        },
        "id": "h5ghwz1e5-WD",
        "outputId": "ca4d5811-6dd9-44f2-ac55-4f8fc0e16011"
      },
      "execution_count": 13,
      "outputs": [
        {
          "output_type": "execute_result",
          "data": {
            "application/vnd.google.colaboratory.intrinsic+json": {
              "type": "string"
            },
            "text/plain": [
              "'digraph Tree {\\nnode [shape=box, style=\"filled, rounded\", color=\"black\", fontname=\"helvetica\"] ;\\nedge [fontname=\"helvetica\"] ;\\n0 [label=\"petal length (cm) <= 2.45\\\\ngini = 0.667\\\\nsamples = 150\\\\nvalue = [50, 50, 50]\\\\nclass = setosa\", fillcolor=\"#ffffff\"] ;\\n1 [label=\"gini = 0.0\\\\nsamples = 50\\\\nvalue = [50, 0, 0]\\\\nclass = setosa\", fillcolor=\"#e58139\"] ;\\n0 -> 1 [labeldistance=2.5, labelangle=45, headlabel=\"True\"] ;\\n2 [label=\"petal width (cm) <= 1.75\\\\ngini = 0.5\\\\nsamples = 100\\\\nvalue = [0, 50, 50]\\\\nclass = versicolor\", fillcolor=\"#ffffff\"] ;\\n0 -> 2 [labeldistance=2.5, labelangle=-45, headlabel=\"False\"] ;\\n3 [label=\"gini = 0.168\\\\nsamples = 54\\\\nvalue = [0, 49, 5]\\\\nclass = versicolor\", fillcolor=\"#4de88e\"] ;\\n2 -> 3 ;\\n4 [label=\"gini = 0.043\\\\nsamples = 46\\\\nvalue = [0, 1, 45]\\\\nclass = virginica\", fillcolor=\"#843de6\"] ;\\n2 -> 4 ;\\n}'"
            ]
          },
          "metadata": {},
          "execution_count": 13
        }
      ]
    },
    {
      "cell_type": "code",
      "source": [
        ""
      ],
      "metadata": {
        "id": "6Vc1rhRx6Xp-"
      },
      "execution_count": null,
      "outputs": []
    }
  ]
}